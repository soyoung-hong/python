{
 "cells": [
  {
   "cell_type": "code",
   "execution_count": null,
   "metadata": {},
   "outputs": [],
   "source": [
    "import numpy as np\n",
    "import pandas as pd\n",
    "import matplotlib.pyplot as plt"
   ]
  },
  {
   "cell_type": "code",
   "execution_count": null,
   "metadata": {},
   "outputs": [],
   "source": [
    "import requests"
   ]
  },
  {
   "cell_type": "code",
   "execution_count": null,
   "metadata": {},
   "outputs": [],
   "source": [
    "import os\n",
    "filedir = 'analysis_crime_seoul'"
   ]
  },
  {
   "cell_type": "code",
   "execution_count": null,
   "metadata": {},
   "outputs": [],
   "source": [
    "filenames = os.listdir(filedir)"
   ]
  },
  {
   "cell_type": "code",
   "execution_count": null,
   "metadata": {},
   "outputs": [],
   "source": [
    "filenames"
   ]
  },
  {
   "cell_type": "code",
   "execution_count": null,
   "metadata": {},
   "outputs": [],
   "source": [
    "file_list = []\n",
    "for file in filenames:\n",
    "    if file.endswith('.csv'):\n",
    "        file_list.append(file)\n",
    "   \n",
    "        \n",
    "file = file_list[-1]\n",
    "\n",
    "_crime_anal_police = pd.read_csv(\"{}/{}\".format(filedir, file), encoding= 'cp949')\n",
    "_crime_anal_police.head()"
   ]
  },
  {
   "cell_type": "code",
   "execution_count": null,
   "metadata": {},
   "outputs": [],
   "source": [
    "police_station = _crime_anal_police['구분'].unique()\n",
    "police_station"
   ]
  },
  {
   "cell_type": "code",
   "execution_count": null,
   "metadata": {},
   "outputs": [],
   "source": [
    "crime_name = _crime_anal_police['죄종'].unique()\n",
    "crime_name"
   ]
  },
  {
   "cell_type": "code",
   "execution_count": null,
   "metadata": {},
   "outputs": [],
   "source": [
    "crime_class = _crime_anal_police['발생검거'].unique()\n",
    "crime_class"
   ]
  },
  {
   "cell_type": "code",
   "execution_count": null,
   "metadata": {},
   "outputs": [],
   "source": [
    "result_list = []\n",
    "for p in police_station:\n",
    "    temp_dict = {\n",
    "        '구분': p\n",
    "    }\n",
    "    for n in crime_name:\n",
    "        for c in crime_class:\n",
    "            key = n+c\n",
    "            con1 = _crime_anal_police['구분'] == p\n",
    "            con2 = _crime_anal_police['죄종'] == n\n",
    "            con3 = _crime_anal_police['발생검거'] == c\n",
    "            \n",
    "            value = _crime_anal_police[con1 & con2 & con3]['건수'].values[0]\n",
    "            temp_dict[key] = value\n",
    "    result_list.append(temp_dict)\n",
    "result_list"
   ]
  },
  {
   "cell_type": "code",
   "execution_count": null,
   "metadata": {},
   "outputs": [],
   "source": [
    "crime_anal_police = pd.DataFrame(result_list)\n",
    "crime_anal_police.head()"
   ]
  },
  {
   "cell_type": "code",
   "execution_count": null,
   "metadata": {},
   "outputs": [],
   "source": [
    "crime_anal_police['구분'] =  crime_anal_police['구분'].apply(lambda x:\"서울\"+x+\"경찰서\")"
   ]
  },
  {
   "cell_type": "code",
   "execution_count": null,
   "metadata": {},
   "outputs": [],
   "source": [
    "crime_anal_police"
   ]
  },
  {
   "cell_type": "code",
   "execution_count": null,
   "metadata": {},
   "outputs": [],
   "source": [
    "url = 'https://map.naver.com/v5/api/search'\n",
    "params = {\n",
    "    'caller': 'pcweb',\n",
    "}\n",
    "\n",
    "from pprint import pprint\n",
    "import requests\n",
    "\n",
    "for police in crime_anal_police['구분']:\n",
    "    params['query'] = police\n",
    "    resp = requests.get(url, params)\n",
    "    print(resp)\n",
    "    pprint(resp.json())\n",
    "    break"
   ]
  },
  {
   "cell_type": "code",
   "execution_count": null,
   "metadata": {},
   "outputs": [],
   "source": [
    "crim_anal_police\n",
    "\n",
    "station_address = []\n",
    "station_lng = []\n",
    "station_lat = []\n",
    "\n",
    "url = 'https://map.naver.com/v5/api/search'\n",
    "params = {\n",
    "    'caller':'pcweb'\n",
    "}\n",
    "\n",
    "for police in crime_anal_police['구분']:\n",
    "    params['query'] = police\n",
    "    resp = requests.get(url, params)\n",
    "    \n",
    "    data = resp.json()\n",
    "    geo_info = data['result']['place']['list'][0]\n",
    "    \n",
    "    address = geo_info.get('roadAddress')\n",
    "    \n",
    "    if not address:\n",
    "        address = geo_info.get('address')\n",
    "    \n",
    "    station_address.append(\n",
    "        address\n",
    "    )\n",
    "    \n",
    "    station_lng.append(\n",
    "        geo_ingo.get('x')\n",
    "    )\n",
    "    station_lat.append(\n",
    "        geo.info.get('y')\n",
    "    )\n",
    "    "
   ]
  },
  {
   "cell_type": "code",
   "execution_count": null,
   "metadata": {},
   "outputs": [],
   "source": [
    "# instantSearch\n",
    "url = 'https://map.naver.com/v5/api/instantSearch'\n",
    "params = {\n",
    "    'lang':'ko',\n",
    "    'caller': 'pcweb',\n",
    "    'types': 'place',\n",
    "    'coords': '37.563867960512454,127.00276851654054'\n",
    "    \n",
    "}\n",
    "\n",
    "station_address = []\n",
    "station_lng = []\n",
    "station_lat = []\n",
    "\n",
    "for police in crime_anal_police['구분']:\n",
    "    params['q'] = police\n",
    "    resp = requests.get(url, params)\n",
    "    \n",
    "    station_data = resp.json()\n",
    "    police_geo = station_data['poi'][0]\n",
    "\n",
    "    address = police_geo.get('roadAddress', police_geo.get('jibunAddress'))\n",
    "    station_address.append(address)\n",
    "    station_lng.append(police_geo.get('x'))\n",
    "    station_lat.append(police_geo.get('y'))\n",
    "    \n",
    "    print(police + \"-->\" + police_geo.get('roadAddress', address))"
   ]
  },
  {
   "cell_type": "code",
   "execution_count": null,
   "metadata": {},
   "outputs": [],
   "source": [
    "zip(station_address, station_lat, station_lng)"
   ]
  },
  {
   "cell_type": "code",
   "execution_count": null,
   "metadata": {},
   "outputs": [],
   "source": [
    "dict(zip(station_address, station_lat))"
   ]
  },
  {
   "cell_type": "code",
   "execution_count": null,
   "metadata": {},
   "outputs": [],
   "source": [
    "list(zip(station_address, station_lat, station_lng))"
   ]
  },
  {
   "cell_type": "code",
   "execution_count": null,
   "metadata": {},
   "outputs": [],
   "source": [
    "gu_name =[]\n",
    "for name in station_address:\n",
    "    tmp = name.split()\n",
    "    \n",
    "    tmp_gu = [gu for gu in tmp if gu[-1]=='구'][0]\n",
    "    \n",
    "    gu_name.append(tmp_gu)\n",
    "crime_anal_police['구별'] = gu_name\n",
    "\n"
   ]
  },
  {
   "cell_type": "code",
   "execution_count": null,
   "metadata": {},
   "outputs": [],
   "source": [
    "crime_anal_police.head()"
   ]
  },
  {
   "cell_type": "code",
   "execution_count": null,
   "metadata": {},
   "outputs": [],
   "source": [
    "crime_anal_police.rename(columns={\n",
    "    '구분':'관서명'\n",
    "}, inplace = True) "
   ]
  },
  {
   "cell_type": "code",
   "execution_count": null,
   "metadata": {},
   "outputs": [],
   "source": [
    "file"
   ]
  },
  {
   "cell_type": "code",
   "execution_count": null,
   "metadata": {},
   "outputs": [],
   "source": [
    "import os"
   ]
  },
  {
   "cell_type": "code",
   "execution_count": null,
   "metadata": {},
   "outputs": [],
   "source": [
    "if not os.path.exists(filedir+'/modified'):\n",
    "    os.makedirs(filedir+'/modified')"
   ]
  },
  {
   "cell_type": "code",
   "execution_count": null,
   "metadata": {},
   "outputs": [],
   "source": [
    "modified_file = \"modified/{}\".format(file)"
   ]
  },
  {
   "cell_type": "code",
   "execution_count": null,
   "metadata": {},
   "outputs": [],
   "source": [
    "crime_anal_police.to_csv(\"{}/{}\".format(filedir,modified_file), sep=',',encoding='utf-8')"
   ]
  },
  {
   "cell_type": "code",
   "execution_count": null,
   "metadata": {},
   "outputs": [],
   "source": [
    "crime_anal_police['구별'].value_counts()"
   ]
  },
  {
   "cell_type": "code",
   "execution_count": null,
   "metadata": {},
   "outputs": [],
   "source": [
    "pd.pivot_table?"
   ]
  },
  {
   "cell_type": "code",
   "execution_count": null,
   "metadata": {},
   "outputs": [],
   "source": [
    "df = crime_anal_police.copy()"
   ]
  },
  {
   "cell_type": "code",
   "execution_count": null,
   "metadata": {},
   "outputs": [],
   "source": [
    "df[df['구별']=='중구']"
   ]
  },
  {
   "cell_type": "code",
   "execution_count": null,
   "metadata": {},
   "outputs": [],
   "source": [
    "pd.pivot_table(df, index=['구별'])"
   ]
  },
  {
   "cell_type": "code",
   "execution_count": null,
   "metadata": {},
   "outputs": [],
   "source": [
    "pd.pivot_table(df, index=['구별','관서명'])"
   ]
  },
  {
   "cell_type": "code",
   "execution_count": null,
   "metadata": {
    "scrolled": false
   },
   "outputs": [],
   "source": [
    "pd.pivot_table(df, index=['구별','관서명'], values=['절도검거', '절도발생'])"
   ]
  },
  {
   "cell_type": "code",
   "execution_count": null,
   "metadata": {
    "scrolled": true
   },
   "outputs": [],
   "source": [
    "pd.pivot_table(df, index=['구별'], values=['절도검거', '절도발생'], aggfunc=np.max)"
   ]
  },
  {
   "cell_type": "code",
   "execution_count": null,
   "metadata": {},
   "outputs": [],
   "source": [
    "pd.pivot_table(df, index=['구별'], values=['절도검거', '절도발생'], aggfunc=[np.max, np.mean, np.min])\n",
    "#pd.pivot_table(df, index=['구별'], values=['절도검거', '절도발생'], aggfunc=[np.max, np.mean,np.min])"
   ]
  },
  {
   "cell_type": "code",
   "execution_count": null,
   "metadata": {},
   "outputs": [],
   "source": [
    "pd.pivot_table(df,\n",
    "              index=['구별'],\n",
    "              values=['절도검거','절도발생'],\n",
    "              aggfunc=[np.max, np.mean],\n",
    "              fill_value=0,\n",
    "              margins=True,\n",
    "              margins_name=\"총계\")"
   ]
  },
  {
   "cell_type": "code",
   "execution_count": null,
   "metadata": {},
   "outputs": [],
   "source": [
    "crime_anal_police.loc[crime_anal_police['구별'] == '강남구'"
   ]
  },
  {
   "cell_type": "code",
   "execution_count": null,
   "metadata": {},
   "outputs": [],
   "source": [
    "crime_anal = pd.pivot_table(crime_anal_police, index=['구별'], aggfunc=np.sum)\n",
    "crime_anal.head()"
   ]
  },
  {
   "cell_type": "code",
   "execution_count": null,
   "metadata": {},
   "outputs": [],
   "source": [
    "crime_name_list = ['강간','강도','살인','절도','폭력']\n",
    "for crime_name in crime_name_list:\n",
    "    #검거율 계산.\n",
    "    temp_series = (crime_anal.loc[:,crime_name+\"검거\"]/crime_anal.loc[:,crime_name+\"발생\"])*100\n",
    "    temp_series[temp_series>100]=100\n",
    "    \n",
    "    #검거율 df에 추가\n",
    "    crime_anal[crime_name+\"검거율\"] = temp_series\n",
    "    #검거 데이터 삭제\n",
    "    crime_anal.drop(crime_name+\"검거\", axis=1,inplace=True)\n",
    "    "
   ]
  },
  {
   "cell_type": "code",
   "execution_count": null,
   "metadata": {},
   "outputs": [],
   "source": [
    "crime_anal"
   ]
  },
  {
   "cell_type": "code",
   "execution_count": null,
   "metadata": {},
   "outputs": [],
   "source": [
    "dict(zip([i+\"발생\" for i in crime_name_list], crime_name_list))"
   ]
  },
  {
   "cell_type": "code",
   "execution_count": null,
   "metadata": {},
   "outputs": [],
   "source": [
    "column_names = dict(zip([i+\"발생\" for i in crime_name_list], crime_name_list))\n",
    "column_names"
   ]
  },
  {
   "cell_type": "code",
   "execution_count": null,
   "metadata": {},
   "outputs": [],
   "source": [
    "crime_anal.rename(columns = column_names, inplace=True)\n",
    "crime_anal.head()"
   ]
  },
  {
   "cell_type": "code",
   "execution_count": null,
   "metadata": {},
   "outputs": [],
   "source": [
    "crime_anal.describe()"
   ]
  },
  {
   "cell_type": "code",
   "execution_count": null,
   "metadata": {},
   "outputs": [],
   "source": [
    "from sklearn.preprocessing import MinMaxScaler"
   ]
  },
  {
   "cell_type": "code",
   "execution_count": null,
   "metadata": {},
   "outputs": [],
   "source": [
    "col = ['강간','강도','살인','절도','폭력']"
   ]
  },
  {
   "cell_type": "code",
   "execution_count": null,
   "metadata": {},
   "outputs": [],
   "source": [
    "x = crime_anal[col].values\n",
    "min_max_scaler = MinMaxScaler()\n",
    "\n",
    "#변환기는 fit 과 transform 함수 내장. (합친게 fit_transform)\n",
    "#fit은 변환할 값 저장\n",
    "#transform은 값 변환\n",
    "x_scaled = min_max_scaler.fit_transform(x.astype(float))\n",
    "\n",
    "#오리지널 데이터, 스케일된 데이터\n",
    "x, x_scaled"
   ]
  },
  {
   "cell_type": "code",
   "execution_count": null,
   "metadata": {},
   "outputs": [],
   "source": [
    "np.min(x), np.max(x)"
   ]
  },
  {
   "cell_type": "code",
   "execution_count": null,
   "metadata": {},
   "outputs": [],
   "source": []
  },
  {
   "cell_type": "code",
   "execution_count": null,
   "metadata": {},
   "outputs": [],
   "source": [
    "crime_anal_norm = pd.DataFrame(x_scaled, columns=col, index=crime_anal.index)\n",
    "crime_anal_norm"
   ]
  },
  {
   "cell_type": "code",
   "execution_count": null,
   "metadata": {},
   "outputs": [],
   "source": [
    "col2 = [i+\"검거율\" for i in col]\n",
    "crime_anal_norm[col2] = crime_anal[col2]\n",
    "crime_anal_norm.head()"
   ]
  },
  {
   "cell_type": "code",
   "execution_count": null,
   "metadata": {},
   "outputs": [],
   "source": [
    "\n",
    "result_CCTV = pd.read_csv('data/CCTV_result.csv', encoding='uft-8', index_col='구별')\n",
    "#crime_anal_norm[['인구수', 'CCTV']] = result_CCTV[['인구수','소계']]\n",
    "#crime_anal_norm.head()"
   ]
  },
  {
   "cell_type": "code",
   "execution_count": null,
   "metadata": {},
   "outputs": [],
   "source": [
    "crime_anal_norm['인구수']=result_CCTV['인구수']\n",
    "crime_anal_norm['CCTV']=result_CCTV['소계']\n",
    "crime_anal_norm\n"
   ]
  },
  {
   "cell_type": "code",
   "execution_count": null,
   "metadata": {},
   "outputs": [],
   "source": []
  },
  {
   "cell_type": "code",
   "execution_count": null,
   "metadata": {},
   "outputs": [],
   "source": []
  }
 ],
 "metadata": {
  "kernelspec": {
   "display_name": "Python 3",
   "language": "python",
   "name": "python3"
  },
  "language_info": {
   "codemirror_mode": {
    "name": "ipython",
    "version": 3
   },
   "file_extension": ".py",
   "mimetype": "text/x-python",
   "name": "python",
   "nbconvert_exporter": "python",
   "pygments_lexer": "ipython3",
   "version": "3.7.4"
  }
 },
 "nbformat": 4,
 "nbformat_minor": 2
}
