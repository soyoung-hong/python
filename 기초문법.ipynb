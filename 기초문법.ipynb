{
 "cells": [
  {
   "cell_type": "code",
   "execution_count": null,
   "metadata": {},
   "outputs": [],
   "source": [
    "a=int(input(\"점수입력1:\"))\n",
    "b=int(input(\"점수입력2:\"))\n",
    "c=int(input(\"점수입력3:\"))\n",
    "\n",
    "bool(65>a and 65>b and 65>c)"
   ]
  },
  {
   "cell_type": "code",
   "execution_count": null,
   "metadata": {},
   "outputs": [],
   "source": [
    "a=\"20190505chicken19000\"\n",
    "year=a[0:4]\n",
    "day=a[4:8]\n",
    "menu=a[8:15]\n",
    "money=a[15:]"
   ]
  },
  {
   "cell_type": "code",
   "execution_count": null,
   "metadata": {},
   "outputs": [],
   "source": [
    "print(money)\n",
    "print(day)\n",
    "print(menu)\n",
    "print(money)"
   ]
  },
  {
   "cell_type": "code",
   "execution_count": null,
   "metadata": {},
   "outputs": [],
   "source": [
    "math = 80\n",
    "english=60"
   ]
  },
  {
   "cell_type": "code",
   "execution_count": null,
   "metadata": {},
   "outputs": [],
   "source": [
    "a=\"수학점수:{1}, 영어점수:{0}, {0}\".format(math, english)"
   ]
  },
  {
   "cell_type": "code",
   "execution_count": null,
   "metadata": {},
   "outputs": [],
   "source": [
    "print(a)"
   ]
  },
  {
   "cell_type": "code",
   "execution_count": null,
   "metadata": {},
   "outputs": [],
   "source": [
    "a =\"iiililililidsidli\"\n",
    "print(a.count('i'))"
   ]
  },
  {
   "cell_type": "code",
   "execution_count": null,
   "metadata": {},
   "outputs": [],
   "source": [
    "a = \"         공백이 너무 많아요.              \"\n",
    "print(len(a))\n",
    "print(a.rstrip())"
   ]
  },
  {
   "cell_type": "code",
   "execution_count": null,
   "metadata": {},
   "outputs": [],
   "source": [
    "a= \" 90:30:80  \"\n",
    "\n",
    "a.strip()\n",
    "math, english, science = a.strip().split(\":\") "
   ]
  },
  {
   "cell_type": "code",
   "execution_count": null,
   "metadata": {},
   "outputs": [],
   "source": [
    "math, english, science"
   ]
  },
  {
   "cell_type": "code",
   "execution_count": null,
   "metadata": {},
   "outputs": [],
   "source": [
    "average = (int(math)+ int(english)+ int (science))/3\n",
    "average"
   ]
  },
  {
   "cell_type": "code",
   "execution_count": null,
   "metadata": {},
   "outputs": [],
   "source": [
    "a = int(input(\"정수를 입력해주세요:\"))\n",
    "for i in range(a):\n",
    "    print(\"안녕\")"
   ]
  },
  {
   "cell_type": "code",
   "execution_count": null,
   "metadata": {},
   "outputs": [],
   "source": [
    "a = int(input(\"정수를 입력해주세요:\"))\n",
    "for i in range(a):\n",
    "        print(('*'*(i+1)))\n",
    "    "
   ]
  },
  {
   "cell_type": "code",
   "execution_count": null,
   "metadata": {},
   "outputs": [],
   "source": [
    "a = int(input(\"정수를 입력해주세요:\"))\n",
    "for i in range(a):\n",
    "        print('*'*(a-i))"
   ]
  },
  {
   "cell_type": "code",
   "execution_count": null,
   "metadata": {},
   "outputs": [],
   "source": [
    "x = [3,6,9,20,-7,5]\n",
    "x = [i*10 for i in x]\n",
    "print(x)"
   ]
  },
  {
   "cell_type": "code",
   "execution_count": null,
   "metadata": {},
   "outputs": [],
   "source": [
    "s = {\"math\":70,\"science\":80, \"english\":20}\n",
    "for k in s:\n",
    "    val = s[k] + 10\n",
    "    print(\"%s:%s\"%(k,val))\n"
   ]
  },
  {
   "cell_type": "code",
   "execution_count": null,
   "metadata": {},
   "outputs": [],
   "source": [
    "a = int(input(\"정수를 입력해주세요:\"))\n",
    "for i in range(a,a+1):\n",
    "    for k in range(1,10):\n",
    "        print(i,'*',k,'=',a*k)"
   ]
  },
  {
   "cell_type": "code",
   "execution_count": null,
   "metadata": {},
   "outputs": [],
   "source": [
    "word = [\"school\",\"game\",\"piano\",\"science\",\"hotel\",\"mountian\"]\n"
   ]
  },
  {
   "cell_type": "code",
   "execution_count": null,
   "metadata": {},
   "outputs": [],
   "source": [
    "for i in range(1,10):\n",
    "    for k in range(1,10):\n",
    "        print(i,'*',k,'=',i*k)"
   ]
  },
  {
   "cell_type": "code",
   "execution_count": null,
   "metadata": {},
   "outputs": [],
   "source": [
    "for i in range(1,101):\n",
    "    if i %3 ==0:\n",
    "        print(\"%s는 3의배수\"%i)\n",
    "        if i %5 ==0:\n",
    "            print(\"%s는 5의배수\"%i)\n",
    "    elif i%5 ==0:\n",
    "        print()"
   ]
  },
  {
   "cell_type": "code",
   "execution_count": null,
   "metadata": {},
   "outputs": [],
   "source": []
  }
 ],
 "metadata": {
  "kernelspec": {
   "display_name": "Python 3",
   "language": "python",
   "name": "python3"
  },
  "language_info": {
   "codemirror_mode": {
    "name": "ipython",
    "version": 3
   },
   "file_extension": ".py",
   "mimetype": "text/x-python",
   "name": "python",
   "nbconvert_exporter": "python",
   "pygments_lexer": "ipython3",
   "version": "3.7.4"
  }
 },
 "nbformat": 4,
 "nbformat_minor": 2
}
