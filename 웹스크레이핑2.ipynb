{
 "cells": [
  {
   "cell_type": "code",
   "execution_count": null,
   "metadata": {},
   "outputs": [],
   "source": [
    "import requests"
   ]
  },
  {
   "cell_type": "code",
   "execution_count": null,
   "metadata": {},
   "outputs": [],
   "source": [
    "from bs4 import BeautifulSoup"
   ]
  },
  {
   "cell_type": "code",
   "execution_count": null,
   "metadata": {},
   "outputs": [],
   "source": [
    "soup = BeautifulSoup(resp.content)"
   ]
  },
  {
   "cell_type": "code",
   "execution_count": null,
   "metadata": {},
   "outputs": [],
   "source": [
    "soup"
   ]
  },
  {
   "cell_type": "code",
   "execution_count": null,
   "metadata": {},
   "outputs": [],
   "source": [
    "#url분석\n",
    "url ='https://search.naver.com/search.naver'\n",
    "params = {\n",
    "    'where': 'news',\n",
    "    'query': '오늘+날씨'\n",
    "}\n"
   ]
  },
  {
   "cell_type": "code",
   "execution_count": null,
   "metadata": {
    "scrolled": true
   },
   "outputs": [],
   "source": [
    "resp = requests.get(url, params=params)\n",
    "resp"
   ]
  },
  {
   "cell_type": "code",
   "execution_count": null,
   "metadata": {},
   "outputs": [],
   "source": [
    "resp.content"
   ]
  },
  {
   "cell_type": "code",
   "execution_count": null,
   "metadata": {},
   "outputs": [],
   "source": [
    "resp.text"
   ]
  },
  {
   "cell_type": "code",
   "execution_count": null,
   "metadata": {},
   "outputs": [],
   "source": [
    "soup = BeautifulSoup(resp.content)"
   ]
  },
  {
   "cell_type": "code",
   "execution_count": null,
   "metadata": {},
   "outputs": [],
   "source": [
    "ul_tag = soup.find('ul', class_='type01')"
   ]
  },
  {
   "cell_type": "code",
   "execution_count": null,
   "metadata": {},
   "outputs": [],
   "source": [
    "news_li_tag = ul_tag.find_all('li', recursive=False)"
   ]
  },
  {
   "cell_type": "code",
   "execution_count": null,
   "metadata": {},
   "outputs": [],
   "source": [
    "len(news_li_tag)"
   ]
  },
  {
   "cell_type": "code",
   "execution_count": null,
   "metadata": {},
   "outputs": [],
   "source": [
    "my_news_list = []\n",
    "\n",
    "for news_tag in news_li_tag:\n",
    "    a_tag = news_tag.find('a', class_='_sp_each_title')\n",
    "    \n",
    "    title = a_tag.text\n",
    "    link = a_tag.get('href')\n",
    "    desc = news_tag.find_all('dd')[1].text\n",
    "    \n",
    "    my_news_list.append({\n",
    "        'title' : title,\n",
    "        'link' : link,\n",
    "        'desc' : desc\n",
    "    })\n",
    "    \n",
    "for idx, my_news in enumerate(my_news_list):\n",
    "    resp = requests.get(my_news.get('link'))\n",
    "    soup = BeautifulSoup(resp.content)\n",
    "    \n",
    "    my_news_list[idx]['content'] = soup.find('body')"
   ]
  },
  {
   "cell_type": "code",
   "execution_count": null,
   "metadata": {},
   "outputs": [],
   "source": [
    "my_news_list"
   ]
  },
  {
   "cell_type": "code",
   "execution_count": null,
   "metadata": {},
   "outputs": [],
   "source": [
    "url ='https://finance.naver.com/item/sise.nhn'\n",
    "params = {\n",
    "    'code' : '005930',\n",
    "    'thistime' : '20200122132807'\n",
    "}"
   ]
  },
  {
   "cell_type": "code",
   "execution_count": null,
   "metadata": {},
   "outputs": [],
   "source": [
    "resp = requests.get(url, params=params)\n",
    "resp"
   ]
  },
  {
   "cell_type": "code",
   "execution_count": null,
   "metadata": {},
   "outputs": [],
   "source": [
    "resp.content"
   ]
  },
  {
   "cell_type": "code",
   "execution_count": null,
   "metadata": {},
   "outputs": [],
   "source": [
    "resp.text"
   ]
  },
  {
   "cell_type": "code",
   "execution_count": null,
   "metadata": {},
   "outputs": [],
   "source": [
    "soup = BeautifulSoup(resp.content)"
   ]
  },
  {
   "cell_type": "code",
   "execution_count": null,
   "metadata": {},
   "outputs": [],
   "source": [
    "_type = input('형식: (day or time): ')\n",
    "stock_code = input(\"종목코드: \")\n",
    "page_num = int(input(\"페이지 (-1은 끝까지)\"))\n",
    "\n",
    "url = 'https://finance.naver.com/item/sise_{0}.nhn'.format(_type)\n",
    "\n",
    "params = {\n",
    "    'code': stock_code,\n",
    "    'thistime': '20200122140411'\n",
    "}\n",
    "\n",
    "if (page_num == -1):\n",
    "    page_num = 1000000000\n",
    "\n",
    "result_list = []\n",
    "for i in range(1, page_num+1):\n",
    "    params['page'] = i\n",
    "    resp = requests.get(url, params=params)\n",
    "    \n",
    "    soup = BeautifulSoup(resp.content)\n",
    "    stock_table = soup.find('table', class_='type2')\n",
    "    \n",
    "    tr_tags = stock_table.find_all('tr')\n",
    "    \n",
    "    for tr_tag in tr_tags:\n",
    "        td_tag = tr_tag.find_all('td')\n",
    "        \n",
    "        if len(td_tag) < 7:\n",
    "            continue\n",
    "        result_list.append({\n",
    "            'time': td_tag[0].text,\n",
    "            'price': td_tag[1].text,\n",
    "            'relative': td_tag[2].text.strip(),\n",
    "            'sell': td_tag[3].text,\n",
    "            'buy': td_tag[4].text,\n",
    "            'trade_amount': td_tag[5].text,\n",
    "            'changing_amount': td_tag[6].text\n",
    "        })\n",
    "    print(result_list)\n",
    "    if len(tr_tags) < 10:\n",
    "        break\n",
    "#         체결시각\t체결가\t전일비\t매도\t매수\t거래량\t변동량"
   ]
  },
  {
   "cell_type": "code",
   "execution_count": null,
   "metadata": {},
   "outputs": [],
   "source": []
  },
  {
   "cell_type": "code",
   "execution_count": null,
   "metadata": {},
   "outputs": [],
   "source": []
  }
 ],
 "metadata": {
  "kernelspec": {
   "display_name": "Python 3",
   "language": "python",
   "name": "python3"
  },
  "language_info": {
   "codemirror_mode": {
    "name": "ipython",
    "version": 3
   },
   "file_extension": ".py",
   "mimetype": "text/x-python",
   "name": "python",
   "nbconvert_exporter": "python",
   "pygments_lexer": "ipython3",
   "version": "3.7.4"
  }
 },
 "nbformat": 4,
 "nbformat_minor": 2
}
